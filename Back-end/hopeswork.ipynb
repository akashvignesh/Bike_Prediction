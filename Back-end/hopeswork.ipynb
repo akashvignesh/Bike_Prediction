{
 "cells": [
  {
   "cell_type": "code",
   "execution_count": 5,
   "id": "64206185",
   "metadata": {},
   "outputs": [
    {
     "name": "stdout",
     "output_type": "stream",
     "text": [
      "2025-05-10 19:43:14,822 INFO: Closing external client and cleaning up certificates.\n",
      "Connection closed.\n",
      "2025-05-10 19:43:14,837 INFO: Initializing external client\n",
      "2025-05-10 19:43:14,837 INFO: Base URL: https://c.app.hopsworks.ai:443\n",
      "2025-05-10 19:43:15,523 INFO: Python Engine initialized.\n",
      "\n",
      "Logged in to project, explore it here https://c.app.hopsworks.ai:443/p/1215649\n"
     ]
    }
   ],
   "source": [
    "import os\n",
    "import config as config\n",
    "from pathlib import Path\n",
    "import hopsworks\n",
    "from dotenv import load_dotenv\n",
    "\n",
    "load_dotenv()\n",
    "project = hopsworks.login(\n",
    "    project=os.getenv(\"HOPSWORKS_PROJECT_NAME\"),\n",
    "    api_key_value=os.getenv(\"HOPSWORKS_API_KEY\")\n",
    ")\n",
    "feature_store = project.get_feature_store()\n",
    "feature_group=feature_store.get_or_create_feature_group(\n",
    "    name=os.getenv(\"FEATURE_GROUP_NAME\"),\n",
    "    version=os.getenv(\"FEATURE_GROUP_VERSION\"),\n",
    "    description= \"Time-series Data for Bike at six hour frequency\",\n",
    "    primary_key=[\"location_id\",\"pickup_hour\"],\n",
    "    event_time=\"pickup_hour\"\n",
    ")"
   ]
  },
  {
   "cell_type": "code",
   "execution_count": 6,
   "id": "158b587f",
   "metadata": {},
   "outputs": [
    {
     "name": "stdout",
     "output_type": "stream",
     "text": [
      "2025-05-10 19:43:16,095 INFO: Closing external client and cleaning up certificates.\n",
      "Connection closed.\n",
      "2025-05-10 19:43:16,105 INFO: Initializing external client\n",
      "2025-05-10 19:43:16,105 INFO: Base URL: https://c.app.hopsworks.ai:443\n",
      "2025-05-10 19:43:16,796 INFO: Python Engine initialized.\n",
      "\n",
      "Logged in to project, explore it here https://c.app.hopsworks.ai:443/p/1215649\n",
      "Successfully connected to Hopsworks project: s3akash\n"
     ]
    }
   ],
   "source": [
    "import hopsworks\n",
    "\n",
    "api_key = os.getenv('HOPSWORKS_API_KEY')  \n",
    "project_name = os.getenv('HOPSWORKS_PROJECT_NAME')  \n",
    "\n",
    "# pip install confluent-kafka\n",
    "# Initialize connection to Hopsworks  \n",
    "project = hopsworks.login(  \n",
    "    api_key_value=api_key,  \n",
    "    project=project_name  \n",
    ")  \n",
    "print(f\"Successfully connected to Hopsworks project: {project_name}\")"
   ]
  },
  {
   "cell_type": "code",
   "execution_count": 7,
   "id": "e77a3388",
   "metadata": {},
   "outputs": [],
   "source": [
    "feature_store = project.get_feature_store()"
   ]
  },
  {
   "cell_type": "code",
   "execution_count": 8,
   "id": "eb2ac6a3",
   "metadata": {},
   "outputs": [],
   "source": [
    "FEATURE_GROUP_NAME = \"time_series_six_hourly_feature_group_bike\"\n",
    "FEATURE_GROUP_VERSION = 1"
   ]
  },
  {
   "cell_type": "code",
   "execution_count": 9,
   "id": "2096633e",
   "metadata": {},
   "outputs": [],
   "source": [
    "feature_group=feature_store.get_or_create_feature_group(\n",
    "    name=FEATURE_GROUP_NAME,\n",
    "    version=FEATURE_GROUP_VERSION,\n",
    "    description= \"Time-series Data for Bike at six hour frequency\",\n",
    "    primary_key=[\"location_id\",\"pickup_hour\"],\n",
    "    event_time=\"pickup_hour\"\n",
    ")"
   ]
  },
  {
   "cell_type": "code",
   "execution_count": 10,
   "id": "5a5b0df4",
   "metadata": {},
   "outputs": [
    {
     "name": "stdout",
     "output_type": "stream",
     "text": [
      "Feature Group created successfully, explore it at \n",
      "https://c.app.hopsworks.ai:443/p/1215649/fs/1203280/fg/1454631\n"
     ]
    },
    {
     "name": "stderr",
     "output_type": "stream",
     "text": [
      "Uploading Dataframe: 100.00% |██████████| Rows 3943/3943 | Elapsed Time: 00:04 | Remaining Time: 00:00\n"
     ]
    },
    {
     "name": "stdout",
     "output_type": "stream",
     "text": [
      "Launching job: time_series_six_hourly_feature_group_bike_1_offline_fg_materialization\n",
      "Job started successfully, you can follow the progress at \n",
      "https://c.app.hopsworks.ai:443/p/1215649/jobs/named/time_series_six_hourly_feature_group_bike_1_offline_fg_materialization/executions\n"
     ]
    },
    {
     "data": {
      "text/plain": [
       "(Job('time_series_six_hourly_feature_group_bike_1_offline_fg_materialization', 'SPARK'),\n",
       " None)"
      ]
     },
     "execution_count": 10,
     "metadata": {},
     "output_type": "execute_result"
    }
   ],
   "source": [
    "import pandas as pd\n",
    "df = pd.read_parquet(\"transformeddata2024.parquet\")\n",
    "feature_group.insert(df,write_options={\"wait_for_job\":False})"
   ]
  },
  {
   "cell_type": "code",
   "execution_count": 11,
   "id": "dc5b9415",
   "metadata": {},
   "outputs": [
    {
     "data": {
      "text/plain": [
       "<bound method DataFrame.info of              pickup_hour location_id  target  target_lag_1  target_lag_2  \\\n",
       "0    2024-01-30 06:00:00     5905.14      30           2.0          31.0   \n",
       "1    2024-01-30 12:00:00     5905.14      59          30.0           2.0   \n",
       "2    2024-01-30 18:00:00     5905.14      36          59.0          30.0   \n",
       "3    2024-01-31 00:00:00     5905.14       1          36.0          59.0   \n",
       "4    2024-01-31 06:00:00     5905.14       4           1.0          36.0   \n",
       "...                  ...         ...     ...           ...           ...   \n",
       "3938 2024-12-30 18:00:00     5329.03      41          83.0          35.0   \n",
       "3939 2024-12-31 00:00:00     5329.03       4          41.0          83.0   \n",
       "3940 2024-12-31 06:00:00     5329.03      42           4.0          41.0   \n",
       "3941 2024-12-31 12:00:00     5329.03      94          42.0           4.0   \n",
       "3942 2024-12-31 18:00:00     5329.03      19          94.0          42.0   \n",
       "\n",
       "      target_lag_3  target_lag_4  target_lag_5  target_lag_6  target_lag_7  \\\n",
       "0             33.0          20.0           1.0          10.0          14.0   \n",
       "1             31.0          33.0          20.0           1.0          10.0   \n",
       "2              2.0          31.0          33.0          20.0           1.0   \n",
       "3             30.0           2.0          31.0          33.0          20.0   \n",
       "4             59.0          30.0           2.0          31.0          33.0   \n",
       "...            ...           ...           ...           ...           ...   \n",
       "3938           3.0          21.0         101.0          15.0           1.0   \n",
       "3939          35.0           3.0          21.0         101.0          15.0   \n",
       "3940          83.0          35.0           3.0          21.0         101.0   \n",
       "3941          41.0          83.0          35.0           3.0          21.0   \n",
       "3942           4.0          41.0          83.0          35.0           3.0   \n",
       "\n",
       "      ...  target_lag_107  target_lag_108  target_lag_109  target_lag_110  \\\n",
       "0     ...             9.0             4.0            29.0             2.0   \n",
       "1     ...            23.0             9.0             4.0            29.0   \n",
       "2     ...            19.0            23.0             9.0             4.0   \n",
       "3     ...             1.0            19.0            23.0             9.0   \n",
       "4     ...            26.0             1.0            19.0            23.0   \n",
       "...   ...             ...             ...             ...             ...   \n",
       "3938  ...             2.0            60.0            92.0            78.0   \n",
       "3939  ...            75.0             2.0            60.0            92.0   \n",
       "3940  ...            86.0            75.0             2.0            60.0   \n",
       "3941  ...            52.0            86.0            75.0             2.0   \n",
       "3942  ...             1.0            52.0            86.0            75.0   \n",
       "\n",
       "      target_lag_111  target_lag_112  hour  day_of_week  month  is_weekend  \n",
       "0                3.0             1.0     6            1      1           0  \n",
       "1                2.0             3.0    12            1      1           0  \n",
       "2               29.0             2.0    18            1      1           0  \n",
       "3                4.0            29.0     0            2      1           0  \n",
       "4                9.0             4.0     6            2      1           0  \n",
       "...              ...             ...   ...          ...    ...         ...  \n",
       "3938             1.0            19.0    18            0     12           0  \n",
       "3939            78.0             1.0     0            1     12           0  \n",
       "3940            92.0            78.0     6            1     12           0  \n",
       "3941            60.0            92.0    12            1     12           0  \n",
       "3942             2.0            60.0    18            1     12           0  \n",
       "\n",
       "[3943 rows x 119 columns]>"
      ]
     },
     "execution_count": 11,
     "metadata": {},
     "output_type": "execute_result"
    }
   ],
   "source": [
    "df\n",
    "df.info"
   ]
  },
  {
   "cell_type": "code",
   "execution_count": 13,
   "id": "79162396",
   "metadata": {},
   "outputs": [
    {
     "name": "stdout",
     "output_type": "stream",
     "text": [
      "Feature view created successfully, explore it at \n",
      "https://c.app.hopsworks.ai:443/p/1215649/fs/1203280/fv/ime_series_six_hourly_feature_view_bike/version/1\n",
      "Feature view 'ime_series_six_hourly_feature_view_bike' (version 1) created successfully.\n",
      "Feature view 'ime_series_six_hourly_feature_view_bike' (version 1) retrieved successfully.\n"
     ]
    }
   ],
   "source": [
    "from dotenv import load_dotenv\n",
    "\n",
    "load_dotenv()\n",
    "# Create a feature view if it doesn't already exist\n",
    "try:\n",
    "    feature_store.create_feature_view(\n",
    "        name=os.getenv('FEATURE_VIEW_NAME'),\n",
    "        version=os.getenv('FEATURE_VIEW_VERSION'),\n",
    "        query=feature_group.select_all(),\n",
    "    )\n",
    "    print(f\"Feature view '{os.getenv('FEATURE_VIEW_NAME')}' (version {os.getenv('FEATURE_VIEW_VERSION')}) created successfully.\")\n",
    "except Exception as e:\n",
    "    print(f\"Error creating feature view: {e}\")\n",
    "\n",
    "# Retrieve the feature view\n",
    "try:\n",
    "    feature_view = feature_store.get_feature_view(\n",
    "        name=os.getenv('FEATURE_VIEW_NAME'),\n",
    "        version=os.getenv('FEATURE_VIEW_VERSION'),\n",
    "    )\n",
    "    print(f\"Feature view '{os.getenv('FEATURE_VIEW_NAME')}' (version {os.getenv('FEATURE_VIEW_VERSION')}) retrieved successfully.\")\n",
    "except Exception as e:\n",
    "    print(f\"Error retrieving feature view: {e}\")"
   ]
  },
  {
   "cell_type": "code",
   "execution_count": 15,
   "id": "2207cf3c",
   "metadata": {},
   "outputs": [
    {
     "name": "stdout",
     "output_type": "stream",
     "text": [
      "Collecting plotly\n",
      "  Downloading plotly-6.0.1-py3-none-any.whl.metadata (6.7 kB)\n",
      "Requirement already satisfied: narwhals>=1.15.1 in c:\\users\\windows\\appdata\\local\\programs\\python\\python311\\lib\\site-packages (from plotly) (1.38.2)\n",
      "Requirement already satisfied: packaging in c:\\users\\windows\\appdata\\roaming\\python\\python311\\site-packages (from plotly) (24.2)\n",
      "Downloading plotly-6.0.1-py3-none-any.whl (14.8 MB)\n",
      "   ---------------------------------------- 0.0/14.8 MB ? eta -:--:--\n",
      "   -------------- ------------------------- 5.2/14.8 MB 29.0 MB/s eta 0:00:01\n",
      "   ---------------------------------------  14.7/14.8 MB 36.9 MB/s eta 0:00:01\n",
      "   ---------------------------------------- 14.8/14.8 MB 32.1 MB/s eta 0:00:00\n",
      "Installing collected packages: plotly\n",
      "Successfully installed plotly-6.0.1\n",
      "Note: you may need to restart the kernel to use updated packages.\n"
     ]
    }
   ],
   "source": [
    "pip install plotly"
   ]
  }
 ],
 "metadata": {
  "kernelspec": {
   "display_name": "Python 3",
   "language": "python",
   "name": "python3"
  },
  "language_info": {
   "codemirror_mode": {
    "name": "ipython",
    "version": 3
   },
   "file_extension": ".py",
   "mimetype": "text/x-python",
   "name": "python",
   "nbconvert_exporter": "python",
   "pygments_lexer": "ipython3",
   "version": "3.11.0"
  }
 },
 "nbformat": 4,
 "nbformat_minor": 5
}
