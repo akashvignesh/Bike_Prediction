{
 "cells": [
  {
   "cell_type": "code",
   "execution_count": 16,
   "id": "64206185",
   "metadata": {},
   "outputs": [
    {
     "name": "stdout",
     "output_type": "stream",
     "text": [
      "2025-05-10 18:04:24,053 INFO: Closing external client and cleaning up certificates.\n",
      "Connection closed.\n",
      "2025-05-10 18:04:24,184 INFO: Initializing external client\n",
      "2025-05-10 18:04:24,186 INFO: Base URL: https://c.app.hopsworks.ai:443\n",
      "2025-05-10 18:04:24,892 INFO: Python Engine initialized.\n",
      "\n",
      "Logged in to project, explore it here https://c.app.hopsworks.ai:443/p/1215649\n"
     ]
    }
   ],
   "source": [
    "import os\n",
    "import config as config\n",
    "from pathlib import Path\n",
    "import hopsworks\n",
    "from dotenv import load_dotenv\n",
    "\n",
    "load_dotenv()\n",
    "project = hopsworks.login(\n",
    "    project=os.getenv(\"HOPSWORKS_PROJECT_NAME\"),\n",
    "    api_key_value=os.getenv(\"HOPSWORKS_API_KEY\")\n",
    ")\n",
    "feature_store = project.get_feature_store()\n",
    "feature_group=feature_store.get_or_create_feature_group(\n",
    "    name=os.getenv(\"FEATURE_GROUP_NAME\"),\n",
    "    version=os.getenv(\"FEATURE_GROUP_VERSION\"),\n",
    "    description= \"Time-series Data for Bike at six hour frequency\",\n",
    "    primary_key=[\"location_id\",\"Pickup_hour\"],\n",
    "    event_time=\"Pickup_hour\"\n",
    ")"
   ]
  },
  {
   "cell_type": "code",
   "execution_count": 17,
   "id": "158b587f",
   "metadata": {},
   "outputs": [
    {
     "name": "stdout",
     "output_type": "stream",
     "text": [
      "2025-05-10 18:04:25,509 INFO: Closing external client and cleaning up certificates.\n",
      "Connection closed.\n",
      "2025-05-10 18:04:25,529 INFO: Initializing external client\n",
      "2025-05-10 18:04:25,532 INFO: Base URL: https://c.app.hopsworks.ai:443\n",
      "2025-05-10 18:04:26,090 INFO: Python Engine initialized.\n",
      "\n",
      "Logged in to project, explore it here https://c.app.hopsworks.ai:443/p/1215649\n",
      "Successfully connected to Hopsworks project: s3akash\n"
     ]
    }
   ],
   "source": [
    "import hopsworks\n",
    "\n",
    "api_key = os.getenv('HOPSWORKS_API_KEY')  \n",
    "project_name = os.getenv('HOPSWORKS_PROJECT_NAME')  \n",
    "\n",
    "# pip install confluent-kafka\n",
    "# Initialize connection to Hopsworks  \n",
    "project = hopsworks.login(  \n",
    "    api_key_value=api_key,  \n",
    "    project=project_name  \n",
    ")  \n",
    "print(f\"Successfully connected to Hopsworks project: {project_name}\")"
   ]
  },
  {
   "cell_type": "code",
   "execution_count": 18,
   "id": "e77a3388",
   "metadata": {},
   "outputs": [],
   "source": [
    "feature_store = project.get_feature_store()"
   ]
  },
  {
   "cell_type": "code",
   "execution_count": 19,
   "id": "eb2ac6a3",
   "metadata": {},
   "outputs": [],
   "source": [
    "FEATURE_GROUP_NAME = \"time_series_six_hourly_feature_group_bike\"\n",
    "FEATURE_GROUP_VERSION = 1"
   ]
  },
  {
   "cell_type": "code",
   "execution_count": 20,
   "id": "2096633e",
   "metadata": {},
   "outputs": [],
   "source": [
    "feature_group=feature_store.get_or_create_feature_group(\n",
    "    name=FEATURE_GROUP_NAME,\n",
    "    version=FEATURE_GROUP_VERSION,\n",
    "    description= \"Time-series Data for Bike at six hour frequency\",\n",
    "    primary_key=[\"location_id\",\"pickup_hour\"],\n",
    "    event_time=\"pickup_hour\"\n",
    ")"
   ]
  },
  {
   "cell_type": "code",
   "execution_count": 21,
   "id": "5a5b0df4",
   "metadata": {},
   "outputs": [
    {
     "name": "stderr",
     "output_type": "stream",
     "text": [
      "FeatureGroupWarning: The ingested dataframe contains upper case letters in feature names: `['Pickup_hour']`. Feature names are sanitized to lower case in the feature store.\n",
      "Uploading Dataframe: 100.00% |██████████| Rows 2859/2859 | Elapsed Time: 00:04 | Remaining Time: 00:00\n"
     ]
    },
    {
     "name": "stdout",
     "output_type": "stream",
     "text": [
      "Launching job: time_series_six_hourly_feature_group_bike_1_offline_fg_materialization\n",
      "Job started successfully, you can follow the progress at \n",
      "https://c.app.hopsworks.ai:443/p/1215649/jobs/named/time_series_six_hourly_feature_group_bike_1_offline_fg_materialization/executions\n"
     ]
    },
    {
     "data": {
      "text/plain": [
       "(Job('time_series_six_hourly_feature_group_bike_1_offline_fg_materialization', 'SPARK'),\n",
       " None)"
      ]
     },
     "execution_count": 21,
     "metadata": {},
     "output_type": "execute_result"
    }
   ],
   "source": [
    "import pandas as pd\n",
    "df = pd.read_parquet(\"transformeddata2024.parquet\")\n",
    "feature_group.insert(df,write_options={\"wait_for_job\":False})"
   ]
  },
  {
   "cell_type": "code",
   "execution_count": 22,
   "id": "dc5b9415",
   "metadata": {},
   "outputs": [
    {
     "data": {
      "text/plain": [
       "<bound method DataFrame.info of              Pickup_hour location_id  target  target_lag_1  target_lag_2  \\\n",
       "0    2024-01-31 00:00:00     5329.03       2          50.0          76.0   \n",
       "1    2024-01-31 06:00:00     5329.03      54           2.0          50.0   \n",
       "2    2024-01-31 12:00:00     5329.03      72          54.0           2.0   \n",
       "3    2024-01-31 18:00:00     5329.03      66          72.0          54.0   \n",
       "4    2024-02-01 00:00:00     5329.03       4          66.0          72.0   \n",
       "...                  ...         ...     ...           ...           ...   \n",
       "2854 2024-09-29 18:00:00     6140.05       9          12.0           5.0   \n",
       "2855 2024-09-30 00:00:00     6140.05       1           9.0          12.0   \n",
       "2856 2024-09-30 06:00:00     6140.05      22           1.0           9.0   \n",
       "2857 2024-09-30 12:00:00     6140.05      14          22.0           1.0   \n",
       "2858 2024-09-30 18:00:00     6140.05      20          14.0          22.0   \n",
       "\n",
       "      target_lag_3  target_lag_4  target_lag_5  target_lag_6  target_lag_7  \\\n",
       "0             55.0           3.0          47.0          45.0          51.0   \n",
       "1             76.0          55.0           3.0          47.0          45.0   \n",
       "2             50.0          76.0          55.0           3.0          47.0   \n",
       "3              2.0          50.0          76.0          55.0           3.0   \n",
       "4             54.0           2.0          50.0          76.0          55.0   \n",
       "...            ...           ...           ...           ...           ...   \n",
       "2854           7.0          14.0           9.0           6.0          28.0   \n",
       "2855           5.0           7.0          14.0           9.0           6.0   \n",
       "2856          12.0           5.0           7.0          14.0           9.0   \n",
       "2857           9.0          12.0           5.0           7.0          14.0   \n",
       "2858           1.0           9.0          12.0           5.0           7.0   \n",
       "\n",
       "      ...  target_lag_107  target_lag_108  target_lag_109  target_lag_110  \\\n",
       "0     ...             1.0            10.0            66.0            13.0   \n",
       "1     ...            42.0             1.0            10.0            66.0   \n",
       "2     ...            80.0            42.0             1.0            10.0   \n",
       "3     ...            54.0            80.0            42.0             1.0   \n",
       "4     ...             3.0            54.0            80.0            42.0   \n",
       "...   ...             ...             ...             ...             ...   \n",
       "2854  ...             4.0            77.0           191.0            74.0   \n",
       "2855  ...             2.0             4.0            77.0           191.0   \n",
       "2856  ...            23.0             2.0             4.0            77.0   \n",
       "2857  ...             7.0            23.0             2.0             4.0   \n",
       "2858  ...             6.0             7.0            23.0             2.0   \n",
       "\n",
       "      target_lag_111  target_lag_112  hour  day_of_week  month  is_weekend  \n",
       "0                7.0             1.0     0            2      1           0  \n",
       "1               13.0             7.0     6            2      1           0  \n",
       "2               66.0            13.0    12            2      1           0  \n",
       "3               10.0            66.0    18            2      1           0  \n",
       "4                1.0            10.0     0            3      2           0  \n",
       "...              ...             ...   ...          ...    ...         ...  \n",
       "2854            21.0           135.0    18            6      9           1  \n",
       "2855            74.0            21.0     0            0      9           0  \n",
       "2856           191.0            74.0     6            0      9           0  \n",
       "2857            77.0           191.0    12            0      9           0  \n",
       "2858             4.0            77.0    18            0      9           0  \n",
       "\n",
       "[2859 rows x 119 columns]>"
      ]
     },
     "execution_count": 22,
     "metadata": {},
     "output_type": "execute_result"
    }
   ],
   "source": [
    "df\n",
    "df.info"
   ]
  },
  {
   "cell_type": "code",
   "execution_count": 23,
   "id": "79162396",
   "metadata": {},
   "outputs": [
    {
     "name": "stdout",
     "output_type": "stream",
     "text": [
      "Error creating feature view: Metadata operation error: (url: https://c.app.hopsworks.ai/hopsworks-api/api/project/1215649/featurestores/1203280/featureview). Server response: \n",
      "HTTP code: 400, HTTP reason: Bad Request, body: b'{\"errorCode\":270179,\"usrMsg\":\"Feature view: ime_series_six_hourly_feature_view_bike, version: 1\",\"errorMsg\":\"The provided feature view name and version already exists\"}', error code: 270179, error msg: The provided feature view name and version already exists, user msg: Feature view: ime_series_six_hourly_feature_view_bike, version: 1\n",
      "Feature view 'ime_series_six_hourly_feature_view_bike' (version 1) retrieved successfully.\n"
     ]
    }
   ],
   "source": [
    "from dotenv import load_dotenv\n",
    "\n",
    "load_dotenv()\n",
    "# Create a feature view if it doesn't already exist\n",
    "try:\n",
    "    feature_store.create_feature_view(\n",
    "        name=os.getenv('FEATURE_VIEW_NAME'),\n",
    "        version=os.getenv('FEATURE_VIEW_VERSION'),\n",
    "        query=feature_group.select_all(),\n",
    "    )\n",
    "    print(f\"Feature view '{os.getenv('FEATURE_VIEW_NAME')}' (version {os.getenv('FEATURE_VIEW_VERSION')}) created successfully.\")\n",
    "except Exception as e:\n",
    "    print(f\"Error creating feature view: {e}\")\n",
    "\n",
    "# Retrieve the feature view\n",
    "try:\n",
    "    feature_view = feature_store.get_feature_view(\n",
    "        name=os.getenv('FEATURE_VIEW_NAME'),\n",
    "        version=os.getenv('FEATURE_VIEW_VERSION'),\n",
    "    )\n",
    "    print(f\"Feature view '{os.getenv('FEATURE_VIEW_NAME')}' (version {os.getenv('FEATURE_VIEW_VERSION')}) retrieved successfully.\")\n",
    "except Exception as e:\n",
    "    print(f\"Error retrieving feature view: {e}\")"
   ]
  }
 ],
 "metadata": {
  "kernelspec": {
   "display_name": "Python 3",
   "language": "python",
   "name": "python3"
  },
  "language_info": {
   "codemirror_mode": {
    "name": "ipython",
    "version": 3
   },
   "file_extension": ".py",
   "mimetype": "text/x-python",
   "name": "python",
   "nbconvert_exporter": "python",
   "pygments_lexer": "ipython3",
   "version": "3.11.0"
  }
 },
 "nbformat": 4,
 "nbformat_minor": 5
}
