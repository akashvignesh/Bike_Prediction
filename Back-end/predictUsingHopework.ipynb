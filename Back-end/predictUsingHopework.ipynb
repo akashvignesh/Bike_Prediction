{
 "cells": [
  {
   "cell_type": "code",
   "execution_count": 13,
   "id": "b45204c0",
   "metadata": {},
   "outputs": [
    {
     "name": "stdout",
     "output_type": "stream",
     "text": [
      "2025-05-10 21:19:41,240 INFO: Closing external client and cleaning up certificates.\n",
      "Connection closed.\n",
      "2025-05-10 21:19:41,257 INFO: Initializing external client\n",
      "2025-05-10 21:19:41,258 INFO: Base URL: https://c.app.hopsworks.ai:443\n",
      "2025-05-10 21:19:41,895 INFO: Python Engine initialized.\n",
      "\n",
      "Logged in to project, explore it here https://c.app.hopsworks.ai:443/p/1215649\n"
     ]
    }
   ],
   "source": [
    "import os\n",
    "import config as config\n",
    "from pathlib import Path\n",
    "import hopsworks\n",
    "from dotenv import load_dotenv\n",
    "\n",
    "load_dotenv()\n",
    "project = hopsworks.login(\n",
    "    project=os.getenv(\"HOPSWORKS_PROJECT_NAME\"),\n",
    "    api_key_value=os.getenv(\"HOPSWORKS_API_KEY\")\n",
    ")\n",
    "feature_store = project.get_feature_store()\n",
    "feature_group=feature_store.get_or_create_feature_group(\n",
    "    name=os.getenv(\"FEATURE_GROUP_NAME\"),\n",
    "    version=os.getenv(\"FEATURE_GROUP_VERSION\"),\n",
    "    description= \"Time-series Data for Bike at six hour frequency\",\n",
    "    primary_key=[\"location_id\",\"pickup_hour\"],\n",
    "    event_time=\"pickup_hour\"\n",
    ")"
   ]
  },
  {
   "cell_type": "code",
   "execution_count": 14,
   "id": "70aca53c",
   "metadata": {},
   "outputs": [
    {
     "name": "stdout",
     "output_type": "stream",
     "text": [
      "Feature view created successfully, explore it at \n",
      "https://c.app.hopsworks.ai:443/p/1215649/fs/1203280/fv/time_series_six_hourly_feature_view_bike/version/1\n",
      "Feature view 'time_series_six_hourly_feature_view_bike' (version 1) created successfully.\n",
      "Feature view 'time_series_six_hourly_feature_view_bike' (version 1) retrieved successfully.\n"
     ]
    }
   ],
   "source": [
    "from dotenv import load_dotenv\n",
    "\n",
    "load_dotenv()\n",
    "# Create a feature view if it doesn't already exist\n",
    "try:\n",
    "    feature_store.create_feature_view(\n",
    "        name=os.getenv('FEATURE_VIEW_NAME'),\n",
    "        version=os.getenv('FEATURE_VIEW_VERSION'),\n",
    "        query=feature_group.select_all(),\n",
    "    )\n",
    "    print(f\"Feature view '{os.getenv('FEATURE_VIEW_NAME')}' (version {os.getenv('FEATURE_VIEW_VERSION')}) created successfully.\")\n",
    "except Exception as e:\n",
    "    print(f\"Error creating feature view: {e}\")\n",
    "\n",
    "# Retrieve the feature view\n",
    "try:\n",
    "    feature_view = feature_store.get_feature_view(\n",
    "        name=os.getenv('FEATURE_VIEW_NAME'),\n",
    "        version=os.getenv('FEATURE_VIEW_VERSION'),\n",
    "    )\n",
    "    print(f\"Feature view '{os.getenv('FEATURE_VIEW_NAME')}' (version {os.getenv('FEATURE_VIEW_VERSION')}) retrieved successfully.\")\n",
    "except Exception as e:\n",
    "    print(f\"Error retrieving feature view: {e}\")"
   ]
  },
  {
   "cell_type": "code",
   "execution_count": 17,
   "id": "69f22f1f",
   "metadata": {},
   "outputs": [
    {
     "name": "stdout",
     "output_type": "stream",
     "text": [
      "2025-05-10 21:21:45,406 INFO: Closing external client and cleaning up certificates.\n",
      "Connection closed.\n",
      "2025-05-10 21:21:45,418 INFO: Initializing external client\n",
      "2025-05-10 21:21:45,418 INFO: Base URL: https://c.app.hopsworks.ai:443\n",
      "2025-05-10 21:21:46,090 INFO: Python Engine initialized.\n",
      "\n",
      "Logged in to project, explore it here https://c.app.hopsworks.ai:443/p/1215649\n"
     ]
    },
    {
     "name": "stderr",
     "output_type": "stream",
     "text": [
      "Downloading: 100.000%|██████████| 279868/279868 elapsed<00:00 remaining<00:00\n"
     ]
    },
    {
     "name": "stdout",
     "output_type": "stream",
     "text": [
      "Downloading model artifact (0 dirs, 1 files)... DONE\r"
     ]
    }
   ],
   "source": [
    "import joblib\n",
    "def get_hopsworks_project() -> hopsworks.project.Project:\n",
    "    return hopsworks.login(\n",
    "        project=os.getenv('HOPSWORKS_PROJECT_NAME'), api_key_value=os.getenv('HOPSWORKS_API_KEY')\n",
    "    )\n",
    "project = get_hopsworks_project()\n",
    "model_registry = project.get_model_registry()\n",
    "\n",
    "models = model_registry.get_models(name='Bike_demand_predictor_next_hour')\n",
    "model = max(models, key=lambda model: model.version)\n",
    "model_dir = model.download()\n",
    "model = joblib.load(Path(model_dir) / \"lightgbm_bikeride_model.joblib\")"
   ]
  },
  {
   "cell_type": "code",
   "execution_count": 20,
   "id": "298232d1",
   "metadata": {},
   "outputs": [
    {
     "name": "stdout",
     "output_type": "stream",
     "text": [
      "❌ Missing features: {'location_id'}\n",
      "🔁 Extra features: set()\n"
     ]
    }
   ],
   "source": [
    "# Check expected vs actual features\n",
    "expected_features = model.feature_name_\n",
    "actual_features = X_pred.columns.tolist()\n",
    "\n",
    "missing = set(expected_features) - set(actual_features)\n",
    "extra   = set(actual_features) - set(expected_features)\n",
    "\n",
    "print(\"❌ Missing features:\", missing)\n",
    "print(\"🔁 Extra features:\", extra)\n"
   ]
  },
  {
   "cell_type": "code",
   "execution_count": null,
   "id": "068a3e17",
   "metadata": {},
   "outputs": [
    {
     "name": "stdout",
     "output_type": "stream",
     "text": [
      "Finished: Reading data from Hopsworks, using Hopsworks Feature Query Service (2.95s) \n",
      "2025-05-10 21:28:59,348 INFO: Provenance cached data - overwriting last accessed/created training dataset from 3 to 4.\n"
     ]
    },
    {
     "name": "stderr",
     "output_type": "stream",
     "text": [
      "VersionWarning: Incremented version to `4`.\n"
     ]
    },
    {
     "name": "stdout",
     "output_type": "stream",
     "text": [
      "🔮 Generating predictions for 2025...\n"
     ]
    },
    {
     "ename": "TypeError",
     "evalue": "Cannot compare tz-naive and tz-aware timestamps",
     "output_type": "error",
     "traceback": [
      "\u001b[31m---------------------------------------------------------------------------\u001b[39m",
      "\u001b[31mTypeError\u001b[39m                                 Traceback (most recent call last)",
      "\u001b[36mCell\u001b[39m\u001b[36m \u001b[39m\u001b[32mIn[21]\u001b[39m\u001b[32m, line 34\u001b[39m\n\u001b[32m     31\u001b[39m \u001b[38;5;28;01mfor\u001b[39;00m ts \u001b[38;5;129;01min\u001b[39;00m future_dates:\n\u001b[32m     32\u001b[39m     \u001b[38;5;28;01mfor\u001b[39;00m loc \u001b[38;5;129;01min\u001b[39;00m location_ids:\n\u001b[32m     33\u001b[39m         \u001b[38;5;66;03m# Get latest 112 lag entries for this station\u001b[39;00m\n\u001b[32m---> \u001b[39m\u001b[32m34\u001b[39m         hist = \u001b[43mfull_df\u001b[49m\u001b[43m[\u001b[49m\u001b[43mfull_df\u001b[49m\u001b[43m[\u001b[49m\u001b[33;43m\"\u001b[39;49m\u001b[33;43mlocation_id\u001b[39;49m\u001b[33;43m\"\u001b[39;49m\u001b[43m]\u001b[49m\u001b[43m \u001b[49m\u001b[43m==\u001b[49m\u001b[43m \u001b[49m\u001b[43mloc\u001b[49m\u001b[43m]\u001b[49m\u001b[43m.\u001b[49m\u001b[43msort_values\u001b[49m\u001b[43m(\u001b[49m\u001b[33;43m\"\u001b[39;49m\u001b[33;43mpickup_hour\u001b[39;49m\u001b[33;43m\"\u001b[39;49m\u001b[43m)\u001b[49m.tail(\u001b[32m112\u001b[39m)\n\u001b[32m     35\u001b[39m         \u001b[38;5;28;01mif\u001b[39;00m \u001b[38;5;28mlen\u001b[39m(hist) < \u001b[32m112\u001b[39m:\n\u001b[32m     36\u001b[39m             \u001b[38;5;28;01mcontinue\u001b[39;00m\n",
      "\u001b[36mFile \u001b[39m\u001b[32mc:\\Users\\Windows\\AppData\\Local\\Programs\\Python\\Python311\\Lib\\site-packages\\pandas\\core\\frame.py:6955\u001b[39m, in \u001b[36mDataFrame.sort_values\u001b[39m\u001b[34m(self, by, axis, ascending, inplace, kind, na_position, ignore_index, key)\u001b[39m\n\u001b[32m   6952\u001b[39m     \u001b[38;5;28;01mif\u001b[39;00m \u001b[38;5;28misinstance\u001b[39m(ascending, (\u001b[38;5;28mtuple\u001b[39m, \u001b[38;5;28mlist\u001b[39m)):\n\u001b[32m   6953\u001b[39m         ascending = ascending[\u001b[32m0\u001b[39m]\n\u001b[32m-> \u001b[39m\u001b[32m6955\u001b[39m     indexer = \u001b[43mnargsort\u001b[49m\u001b[43m(\u001b[49m\n\u001b[32m   6956\u001b[39m \u001b[43m        \u001b[49m\u001b[43mk\u001b[49m\u001b[43m,\u001b[49m\u001b[43m \u001b[49m\u001b[43mkind\u001b[49m\u001b[43m=\u001b[49m\u001b[43mkind\u001b[49m\u001b[43m,\u001b[49m\u001b[43m \u001b[49m\u001b[43mascending\u001b[49m\u001b[43m=\u001b[49m\u001b[43mascending\u001b[49m\u001b[43m,\u001b[49m\u001b[43m \u001b[49m\u001b[43mna_position\u001b[49m\u001b[43m=\u001b[49m\u001b[43mna_position\u001b[49m\u001b[43m,\u001b[49m\u001b[43m \u001b[49m\u001b[43mkey\u001b[49m\u001b[43m=\u001b[49m\u001b[43mkey\u001b[49m\n\u001b[32m   6957\u001b[39m \u001b[43m    \u001b[49m\u001b[43m)\u001b[49m\n\u001b[32m   6958\u001b[39m \u001b[38;5;28;01melse\u001b[39;00m:\n\u001b[32m   6959\u001b[39m     \u001b[38;5;28;01mif\u001b[39;00m inplace:\n",
      "\u001b[36mFile \u001b[39m\u001b[32mc:\\Users\\Windows\\AppData\\Local\\Programs\\Python\\Python311\\Lib\\site-packages\\pandas\\core\\sorting.py:483\u001b[39m, in \u001b[36mnargsort\u001b[39m\u001b[34m(items, kind, ascending, na_position, key, mask)\u001b[39m\n\u001b[32m    481\u001b[39m     non_nans = non_nans[::-\u001b[32m1\u001b[39m]\n\u001b[32m    482\u001b[39m     non_nan_idx = non_nan_idx[::-\u001b[32m1\u001b[39m]\n\u001b[32m--> \u001b[39m\u001b[32m483\u001b[39m indexer = non_nan_idx[\u001b[43mnon_nans\u001b[49m\u001b[43m.\u001b[49m\u001b[43margsort\u001b[49m\u001b[43m(\u001b[49m\u001b[43mkind\u001b[49m\u001b[43m=\u001b[49m\u001b[43mkind\u001b[49m\u001b[43m)\u001b[49m]\n\u001b[32m    484\u001b[39m \u001b[38;5;28;01mif\u001b[39;00m \u001b[38;5;129;01mnot\u001b[39;00m ascending:\n\u001b[32m    485\u001b[39m     indexer = indexer[::-\u001b[32m1\u001b[39m]\n",
      "\u001b[36mFile \u001b[39m\u001b[32mtimestamps.pyx:388\u001b[39m, in \u001b[36mpandas._libs.tslibs.timestamps._Timestamp.__richcmp__\u001b[39m\u001b[34m()\u001b[39m\n",
      "\u001b[31mTypeError\u001b[39m: Cannot compare tz-naive and tz-aware timestamps"
     ]
    }
   ],
   "source": [
    "from datetime import timedelta\n",
    "import pandas as pd\n",
    "\n",
    "# Step 1: Load feature view data from Hopsworks\n",
    "ts_data, _ = feature_view.training_data(\n",
    "    description=\"time_series_six_hourly_bike_ride\"\n",
    ")\n",
    "\n",
    "# Step 2: Preprocess location_id\n",
    "ts_data[\"location_id\"] = ts_data[\"location_id\"].astype(str).str.replace('.', '', regex=False)\n",
    "ts_data[\"pickup_hour\"] = pd.to_datetime(ts_data[\"pickup_hour\"])\n",
    "\n",
    "# Keep only the 3 exact stations\n",
    "valid_ids = {\"614005\", \"590514\", \"532903\"}\n",
    "ts_data = ts_data[ts_data[\"location_id\"].isin(valid_ids)]\n",
    "\n",
    "# Step 3: Setup for prediction\n",
    "full_df = ts_data.copy()\n",
    "predictions = []\n",
    "\n",
    "# Define prediction timeline and cleaned location IDs\n",
    "future_dates = pd.date_range(\"2025-01-01 00:00:00\", \"2025-12-31 18:00:00\", freq=\"6H\", tz=\"UTC\")\n",
    "location_ids = sorted(valid_ids)  # keep it ordered\n",
    "\n",
    "# Step 4: LightGBM expects these exact features\n",
    "reg_features = [f\"target_lag_{i+1}\" for i in range(112)] + [\"hour\", \"day_of_week\", \"month\", \"is_weekend\", \"location_id\"]\n",
    "\n",
    "print(\"🔮 Generating predictions for 2025...\")\n",
    "\n",
    "# Step 5: Rolling prediction loop\n",
    "for ts in future_dates:\n",
    "    for loc in location_ids:\n",
    "        # Get latest 112 lag entries for this station\n",
    "        hist = full_df[full_df[\"location_id\"] == loc].sort_values(\"pickup_hour\").tail(112)\n",
    "        if len(hist) < 112:\n",
    "            continue\n",
    "\n",
    "        # Create lag features\n",
    "        feature_row = {\n",
    "            f\"target_lag_{i+1}\": hist.iloc[-(i+1)][\"target\"] for i in range(112)\n",
    "        }\n",
    "\n",
    "        # Add time-based features\n",
    "        feature_row[\"hour\"] = ts.hour\n",
    "        feature_row[\"day_of_week\"] = ts.dayofweek\n",
    "        feature_row[\"month\"] = ts.month\n",
    "        feature_row[\"is_weekend\"] = int(ts.dayofweek in [5, 6])\n",
    "        feature_row[\"pickup_hour\"] = ts\n",
    "        feature_row[\"location_id\"] = loc\n",
    "\n",
    "        # Prepare DataFrame for prediction\n",
    "        X_pred = pd.DataFrame([feature_row])[reg_features]\n",
    "        X_pred[\"location_id\"] = X_pred[\"location_id\"].astype(float)  # ensure numeric for LGBM\n",
    "\n",
    "        # Predict\n",
    "        pred = model.predict(X_pred)[0]\n",
    "\n",
    "        # Store prediction\n",
    "        predictions.append({\n",
    "            \"pickup_hour\": ts,\n",
    "            \"location_id\": loc,\n",
    "            \"predicted_rides\": round(pred)\n",
    "        })\n",
    "\n",
    "        # Append predicted row to history for future lags\n",
    "        full_df = pd.concat([\n",
    "            full_df,\n",
    "            pd.DataFrame([{\n",
    "                **feature_row,\n",
    "                \"target\": pred\n",
    "            }])\n",
    "        ], ignore_index=True)\n",
    "\n",
    "print(\"✅ 2025 predictions complete.\")\n",
    "\n",
    "# Step 6: Save predictions\n",
    "pred_df = pd.DataFrame(predictions)\n",
    "pred_df.to_csv(\"bike_predictions_2025_6hr.csv\", index=False)\n",
    "print(\"📁 Saved as bike_predictions_2025_6hr.csv\")\n"
   ]
  },
  {
   "cell_type": "code",
   "execution_count": 18,
   "id": "055f1f6d",
   "metadata": {},
   "outputs": [
    {
     "name": "stdout",
     "output_type": "stream",
     "text": [
      "Finished: Reading data from Hopsworks, using Hopsworks Feature Query Service (3.49s) \n",
      "2025-05-10 21:22:11,685 INFO: Provenance cached data - overwriting last accessed/created training dataset from 2 to 3.\n"
     ]
    },
    {
     "name": "stderr",
     "output_type": "stream",
     "text": [
      "VersionWarning: Incremented version to `3`.\n"
     ]
    },
    {
     "name": "stdout",
     "output_type": "stream",
     "text": [
      "🔮 Generating predictions for 2025...\n"
     ]
    },
    {
     "ename": "LightGBMError",
     "evalue": "The number of features in data (116) is not the same as it was in training data (117).\nYou can set ``predict_disable_shape_check=true`` to discard this error, but please be aware what you are doing.",
     "output_type": "error",
     "traceback": [
      "\u001b[31m---------------------------------------------------------------------------\u001b[39m",
      "\u001b[31mLightGBMError\u001b[39m                             Traceback (most recent call last)",
      "\u001b[36mCell\u001b[39m\u001b[36m \u001b[39m\u001b[32mIn[18]\u001b[39m\u001b[32m, line 40\u001b[39m\n\u001b[32m     38\u001b[39m \u001b[38;5;66;03m# Create DataFrame and predict\u001b[39;00m\n\u001b[32m     39\u001b[39m X_pred = pd.DataFrame([feature_row])[reg_features]\n\u001b[32m---> \u001b[39m\u001b[32m40\u001b[39m pred = \u001b[43mmodel\u001b[49m\u001b[43m.\u001b[49m\u001b[43mpredict\u001b[49m\u001b[43m(\u001b[49m\u001b[43mX_pred\u001b[49m\u001b[43m)\u001b[49m[\u001b[32m0\u001b[39m]\n\u001b[32m     42\u001b[39m predictions.append({\n\u001b[32m     43\u001b[39m     \u001b[33m\"\u001b[39m\u001b[33mpickup_hour\u001b[39m\u001b[33m\"\u001b[39m: ts,\n\u001b[32m     44\u001b[39m     \u001b[33m\"\u001b[39m\u001b[33mlocation_id\u001b[39m\u001b[33m\"\u001b[39m: loc,\n\u001b[32m     45\u001b[39m     \u001b[33m\"\u001b[39m\u001b[33mpredicted_rides\u001b[39m\u001b[33m\"\u001b[39m: \u001b[38;5;28mround\u001b[39m(pred)\n\u001b[32m     46\u001b[39m })\n\u001b[32m     48\u001b[39m \u001b[38;5;66;03m# Append prediction as if it were real to enable rolling lags\u001b[39;00m\n",
      "\u001b[36mFile \u001b[39m\u001b[32mc:\\Users\\Windows\\AppData\\Local\\Programs\\Python\\Python311\\Lib\\site-packages\\lightgbm\\sklearn.py:1144\u001b[39m, in \u001b[36mLGBMModel.predict\u001b[39m\u001b[34m(self, X, raw_score, start_iteration, num_iteration, pred_leaf, pred_contrib, validate_features, **kwargs)\u001b[39m\n\u001b[32m   1141\u001b[39m predict_params = _choose_param_value(\u001b[33m\"\u001b[39m\u001b[33mnum_threads\u001b[39m\u001b[33m\"\u001b[39m, predict_params, \u001b[38;5;28mself\u001b[39m.n_jobs)\n\u001b[32m   1142\u001b[39m predict_params[\u001b[33m\"\u001b[39m\u001b[33mnum_threads\u001b[39m\u001b[33m\"\u001b[39m] = \u001b[38;5;28mself\u001b[39m._process_n_jobs(predict_params[\u001b[33m\"\u001b[39m\u001b[33mnum_threads\u001b[39m\u001b[33m\"\u001b[39m])\n\u001b[32m-> \u001b[39m\u001b[32m1144\u001b[39m \u001b[38;5;28;01mreturn\u001b[39;00m \u001b[38;5;28;43mself\u001b[39;49m\u001b[43m.\u001b[49m\u001b[43m_Booster\u001b[49m\u001b[43m.\u001b[49m\u001b[43mpredict\u001b[49m\u001b[43m(\u001b[49m\u001b[43m  \u001b[49m\u001b[38;5;66;43;03m# type: ignore[union-attr]\u001b[39;49;00m\n\u001b[32m   1145\u001b[39m \u001b[43m    \u001b[49m\u001b[43mX\u001b[49m\u001b[43m,\u001b[49m\n\u001b[32m   1146\u001b[39m \u001b[43m    \u001b[49m\u001b[43mraw_score\u001b[49m\u001b[43m=\u001b[49m\u001b[43mraw_score\u001b[49m\u001b[43m,\u001b[49m\n\u001b[32m   1147\u001b[39m \u001b[43m    \u001b[49m\u001b[43mstart_iteration\u001b[49m\u001b[43m=\u001b[49m\u001b[43mstart_iteration\u001b[49m\u001b[43m,\u001b[49m\n\u001b[32m   1148\u001b[39m \u001b[43m    \u001b[49m\u001b[43mnum_iteration\u001b[49m\u001b[43m=\u001b[49m\u001b[43mnum_iteration\u001b[49m\u001b[43m,\u001b[49m\n\u001b[32m   1149\u001b[39m \u001b[43m    \u001b[49m\u001b[43mpred_leaf\u001b[49m\u001b[43m=\u001b[49m\u001b[43mpred_leaf\u001b[49m\u001b[43m,\u001b[49m\n\u001b[32m   1150\u001b[39m \u001b[43m    \u001b[49m\u001b[43mpred_contrib\u001b[49m\u001b[43m=\u001b[49m\u001b[43mpred_contrib\u001b[49m\u001b[43m,\u001b[49m\n\u001b[32m   1151\u001b[39m \u001b[43m    \u001b[49m\u001b[43mvalidate_features\u001b[49m\u001b[43m=\u001b[49m\u001b[43mvalidate_features\u001b[49m\u001b[43m,\u001b[49m\n\u001b[32m   1152\u001b[39m \u001b[43m    \u001b[49m\u001b[43m*\u001b[49m\u001b[43m*\u001b[49m\u001b[43mpredict_params\u001b[49m\u001b[43m,\u001b[49m\n\u001b[32m   1153\u001b[39m \u001b[43m\u001b[49m\u001b[43m)\u001b[49m\n",
      "\u001b[36mFile \u001b[39m\u001b[32mc:\\Users\\Windows\\AppData\\Local\\Programs\\Python\\Python311\\Lib\\site-packages\\lightgbm\\basic.py:4767\u001b[39m, in \u001b[36mBooster.predict\u001b[39m\u001b[34m(self, data, start_iteration, num_iteration, raw_score, pred_leaf, pred_contrib, data_has_header, validate_features, **kwargs)\u001b[39m\n\u001b[32m   4765\u001b[39m     \u001b[38;5;28;01melse\u001b[39;00m:\n\u001b[32m   4766\u001b[39m         num_iteration = -\u001b[32m1\u001b[39m\n\u001b[32m-> \u001b[39m\u001b[32m4767\u001b[39m \u001b[38;5;28;01mreturn\u001b[39;00m \u001b[43mpredictor\u001b[49m\u001b[43m.\u001b[49m\u001b[43mpredict\u001b[49m\u001b[43m(\u001b[49m\n\u001b[32m   4768\u001b[39m \u001b[43m    \u001b[49m\u001b[43mdata\u001b[49m\u001b[43m=\u001b[49m\u001b[43mdata\u001b[49m\u001b[43m,\u001b[49m\n\u001b[32m   4769\u001b[39m \u001b[43m    \u001b[49m\u001b[43mstart_iteration\u001b[49m\u001b[43m=\u001b[49m\u001b[43mstart_iteration\u001b[49m\u001b[43m,\u001b[49m\n\u001b[32m   4770\u001b[39m \u001b[43m    \u001b[49m\u001b[43mnum_iteration\u001b[49m\u001b[43m=\u001b[49m\u001b[43mnum_iteration\u001b[49m\u001b[43m,\u001b[49m\n\u001b[32m   4771\u001b[39m \u001b[43m    \u001b[49m\u001b[43mraw_score\u001b[49m\u001b[43m=\u001b[49m\u001b[43mraw_score\u001b[49m\u001b[43m,\u001b[49m\n\u001b[32m   4772\u001b[39m \u001b[43m    \u001b[49m\u001b[43mpred_leaf\u001b[49m\u001b[43m=\u001b[49m\u001b[43mpred_leaf\u001b[49m\u001b[43m,\u001b[49m\n\u001b[32m   4773\u001b[39m \u001b[43m    \u001b[49m\u001b[43mpred_contrib\u001b[49m\u001b[43m=\u001b[49m\u001b[43mpred_contrib\u001b[49m\u001b[43m,\u001b[49m\n\u001b[32m   4774\u001b[39m \u001b[43m    \u001b[49m\u001b[43mdata_has_header\u001b[49m\u001b[43m=\u001b[49m\u001b[43mdata_has_header\u001b[49m\u001b[43m,\u001b[49m\n\u001b[32m   4775\u001b[39m \u001b[43m    \u001b[49m\u001b[43mvalidate_features\u001b[49m\u001b[43m=\u001b[49m\u001b[43mvalidate_features\u001b[49m\u001b[43m,\u001b[49m\n\u001b[32m   4776\u001b[39m \u001b[43m\u001b[49m\u001b[43m)\u001b[49m\n",
      "\u001b[36mFile \u001b[39m\u001b[32mc:\\Users\\Windows\\AppData\\Local\\Programs\\Python\\Python311\\Lib\\site-packages\\lightgbm\\basic.py:1204\u001b[39m, in \u001b[36m_InnerPredictor.predict\u001b[39m\u001b[34m(self, data, start_iteration, num_iteration, raw_score, pred_leaf, pred_contrib, data_has_header, validate_features)\u001b[39m\n\u001b[32m   1197\u001b[39m     preds, nrow = \u001b[38;5;28mself\u001b[39m.__pred_for_csc(\n\u001b[32m   1198\u001b[39m         csc=data,\n\u001b[32m   1199\u001b[39m         start_iteration=start_iteration,\n\u001b[32m   1200\u001b[39m         num_iteration=num_iteration,\n\u001b[32m   1201\u001b[39m         predict_type=predict_type,\n\u001b[32m   1202\u001b[39m     )\n\u001b[32m   1203\u001b[39m \u001b[38;5;28;01melif\u001b[39;00m \u001b[38;5;28misinstance\u001b[39m(data, np.ndarray):\n\u001b[32m-> \u001b[39m\u001b[32m1204\u001b[39m     preds, nrow = \u001b[38;5;28;43mself\u001b[39;49m\u001b[43m.\u001b[49m\u001b[43m__pred_for_np2d\u001b[49m\u001b[43m(\u001b[49m\n\u001b[32m   1205\u001b[39m \u001b[43m        \u001b[49m\u001b[43mmat\u001b[49m\u001b[43m=\u001b[49m\u001b[43mdata\u001b[49m\u001b[43m,\u001b[49m\n\u001b[32m   1206\u001b[39m \u001b[43m        \u001b[49m\u001b[43mstart_iteration\u001b[49m\u001b[43m=\u001b[49m\u001b[43mstart_iteration\u001b[49m\u001b[43m,\u001b[49m\n\u001b[32m   1207\u001b[39m \u001b[43m        \u001b[49m\u001b[43mnum_iteration\u001b[49m\u001b[43m=\u001b[49m\u001b[43mnum_iteration\u001b[49m\u001b[43m,\u001b[49m\n\u001b[32m   1208\u001b[39m \u001b[43m        \u001b[49m\u001b[43mpredict_type\u001b[49m\u001b[43m=\u001b[49m\u001b[43mpredict_type\u001b[49m\u001b[43m,\u001b[49m\n\u001b[32m   1209\u001b[39m \u001b[43m    \u001b[49m\u001b[43m)\u001b[49m\n\u001b[32m   1210\u001b[39m \u001b[38;5;28;01melif\u001b[39;00m _is_pyarrow_table(data):\n\u001b[32m   1211\u001b[39m     preds, nrow = \u001b[38;5;28mself\u001b[39m.__pred_for_pyarrow_table(\n\u001b[32m   1212\u001b[39m         table=data,\n\u001b[32m   1213\u001b[39m         start_iteration=start_iteration,\n\u001b[32m   1214\u001b[39m         num_iteration=num_iteration,\n\u001b[32m   1215\u001b[39m         predict_type=predict_type,\n\u001b[32m   1216\u001b[39m     )\n",
      "\u001b[36mFile \u001b[39m\u001b[32mc:\\Users\\Windows\\AppData\\Local\\Programs\\Python\\Python311\\Lib\\site-packages\\lightgbm\\basic.py:1361\u001b[39m, in \u001b[36m_InnerPredictor.__pred_for_np2d\u001b[39m\u001b[34m(self, mat, start_iteration, num_iteration, predict_type)\u001b[39m\n\u001b[32m   1359\u001b[39m     \u001b[38;5;28;01mreturn\u001b[39;00m preds, nrow\n\u001b[32m   1360\u001b[39m \u001b[38;5;28;01melse\u001b[39;00m:\n\u001b[32m-> \u001b[39m\u001b[32m1361\u001b[39m     \u001b[38;5;28;01mreturn\u001b[39;00m \u001b[38;5;28;43mself\u001b[39;49m\u001b[43m.\u001b[49m\u001b[43m__inner_predict_np2d\u001b[49m\u001b[43m(\u001b[49m\n\u001b[32m   1362\u001b[39m \u001b[43m        \u001b[49m\u001b[43mmat\u001b[49m\u001b[43m=\u001b[49m\u001b[43mmat\u001b[49m\u001b[43m,\u001b[49m\n\u001b[32m   1363\u001b[39m \u001b[43m        \u001b[49m\u001b[43mstart_iteration\u001b[49m\u001b[43m=\u001b[49m\u001b[43mstart_iteration\u001b[49m\u001b[43m,\u001b[49m\n\u001b[32m   1364\u001b[39m \u001b[43m        \u001b[49m\u001b[43mnum_iteration\u001b[49m\u001b[43m=\u001b[49m\u001b[43mnum_iteration\u001b[49m\u001b[43m,\u001b[49m\n\u001b[32m   1365\u001b[39m \u001b[43m        \u001b[49m\u001b[43mpredict_type\u001b[49m\u001b[43m=\u001b[49m\u001b[43mpredict_type\u001b[49m\u001b[43m,\u001b[49m\n\u001b[32m   1366\u001b[39m \u001b[43m        \u001b[49m\u001b[43mpreds\u001b[49m\u001b[43m=\u001b[49m\u001b[38;5;28;43;01mNone\u001b[39;49;00m\u001b[43m,\u001b[49m\n\u001b[32m   1367\u001b[39m \u001b[43m    \u001b[49m\u001b[43m)\u001b[49m\n",
      "\u001b[36mFile \u001b[39m\u001b[32mc:\\Users\\Windows\\AppData\\Local\\Programs\\Python\\Python311\\Lib\\site-packages\\lightgbm\\basic.py:1307\u001b[39m, in \u001b[36m_InnerPredictor.__inner_predict_np2d\u001b[39m\u001b[34m(self, mat, start_iteration, num_iteration, predict_type, preds)\u001b[39m\n\u001b[32m   1305\u001b[39m     \u001b[38;5;28;01mraise\u001b[39;00m \u001b[38;5;167;01mValueError\u001b[39;00m(\u001b[33m\"\u001b[39m\u001b[33mWrong length of pre-allocated predict array\u001b[39m\u001b[33m\"\u001b[39m)\n\u001b[32m   1306\u001b[39m out_num_preds = ctypes.c_int64(\u001b[32m0\u001b[39m)\n\u001b[32m-> \u001b[39m\u001b[32m1307\u001b[39m \u001b[43m_safe_call\u001b[49m\u001b[43m(\u001b[49m\n\u001b[32m   1308\u001b[39m \u001b[43m    \u001b[49m\u001b[43m_LIB\u001b[49m\u001b[43m.\u001b[49m\u001b[43mLGBM_BoosterPredictForMat\u001b[49m\u001b[43m(\u001b[49m\n\u001b[32m   1309\u001b[39m \u001b[43m        \u001b[49m\u001b[38;5;28;43mself\u001b[39;49m\u001b[43m.\u001b[49m\u001b[43m_handle\u001b[49m\u001b[43m,\u001b[49m\n\u001b[32m   1310\u001b[39m \u001b[43m        \u001b[49m\u001b[43mptr_data\u001b[49m\u001b[43m,\u001b[49m\n\u001b[32m   1311\u001b[39m \u001b[43m        \u001b[49m\u001b[43mctypes\u001b[49m\u001b[43m.\u001b[49m\u001b[43mc_int\u001b[49m\u001b[43m(\u001b[49m\u001b[43mtype_ptr_data\u001b[49m\u001b[43m)\u001b[49m\u001b[43m,\u001b[49m\n\u001b[32m   1312\u001b[39m \u001b[43m        \u001b[49m\u001b[43mctypes\u001b[49m\u001b[43m.\u001b[49m\u001b[43mc_int32\u001b[49m\u001b[43m(\u001b[49m\u001b[43mmat\u001b[49m\u001b[43m.\u001b[49m\u001b[43mshape\u001b[49m\u001b[43m[\u001b[49m\u001b[32;43m0\u001b[39;49m\u001b[43m]\u001b[49m\u001b[43m)\u001b[49m\u001b[43m,\u001b[49m\n\u001b[32m   1313\u001b[39m \u001b[43m        \u001b[49m\u001b[43mctypes\u001b[49m\u001b[43m.\u001b[49m\u001b[43mc_int32\u001b[49m\u001b[43m(\u001b[49m\u001b[43mmat\u001b[49m\u001b[43m.\u001b[49m\u001b[43mshape\u001b[49m\u001b[43m[\u001b[49m\u001b[32;43m1\u001b[39;49m\u001b[43m]\u001b[49m\u001b[43m)\u001b[49m\u001b[43m,\u001b[49m\n\u001b[32m   1314\u001b[39m \u001b[43m        \u001b[49m\u001b[43mctypes\u001b[49m\u001b[43m.\u001b[49m\u001b[43mc_int\u001b[49m\u001b[43m(\u001b[49m\u001b[43mlayout\u001b[49m\u001b[43m)\u001b[49m\u001b[43m,\u001b[49m\n\u001b[32m   1315\u001b[39m \u001b[43m        \u001b[49m\u001b[43mctypes\u001b[49m\u001b[43m.\u001b[49m\u001b[43mc_int\u001b[49m\u001b[43m(\u001b[49m\u001b[43mpredict_type\u001b[49m\u001b[43m)\u001b[49m\u001b[43m,\u001b[49m\n\u001b[32m   1316\u001b[39m \u001b[43m        \u001b[49m\u001b[43mctypes\u001b[49m\u001b[43m.\u001b[49m\u001b[43mc_int\u001b[49m\u001b[43m(\u001b[49m\u001b[43mstart_iteration\u001b[49m\u001b[43m)\u001b[49m\u001b[43m,\u001b[49m\n\u001b[32m   1317\u001b[39m \u001b[43m        \u001b[49m\u001b[43mctypes\u001b[49m\u001b[43m.\u001b[49m\u001b[43mc_int\u001b[49m\u001b[43m(\u001b[49m\u001b[43mnum_iteration\u001b[49m\u001b[43m)\u001b[49m\u001b[43m,\u001b[49m\n\u001b[32m   1318\u001b[39m \u001b[43m        \u001b[49m\u001b[43m_c_str\u001b[49m\u001b[43m(\u001b[49m\u001b[38;5;28;43mself\u001b[39;49m\u001b[43m.\u001b[49m\u001b[43mpred_parameter\u001b[49m\u001b[43m)\u001b[49m\u001b[43m,\u001b[49m\n\u001b[32m   1319\u001b[39m \u001b[43m        \u001b[49m\u001b[43mctypes\u001b[49m\u001b[43m.\u001b[49m\u001b[43mbyref\u001b[49m\u001b[43m(\u001b[49m\u001b[43mout_num_preds\u001b[49m\u001b[43m)\u001b[49m\u001b[43m,\u001b[49m\n\u001b[32m   1320\u001b[39m \u001b[43m        \u001b[49m\u001b[43mpreds\u001b[49m\u001b[43m.\u001b[49m\u001b[43mctypes\u001b[49m\u001b[43m.\u001b[49m\u001b[43mdata_as\u001b[49m\u001b[43m(\u001b[49m\u001b[43mctypes\u001b[49m\u001b[43m.\u001b[49m\u001b[43mPOINTER\u001b[49m\u001b[43m(\u001b[49m\u001b[43mctypes\u001b[49m\u001b[43m.\u001b[49m\u001b[43mc_double\u001b[49m\u001b[43m)\u001b[49m\u001b[43m)\u001b[49m\u001b[43m,\u001b[49m\n\u001b[32m   1321\u001b[39m \u001b[43m    \u001b[49m\u001b[43m)\u001b[49m\n\u001b[32m   1322\u001b[39m \u001b[43m\u001b[49m\u001b[43m)\u001b[49m\n\u001b[32m   1323\u001b[39m \u001b[38;5;28;01mif\u001b[39;00m n_preds != out_num_preds.value:\n\u001b[32m   1324\u001b[39m     \u001b[38;5;28;01mraise\u001b[39;00m \u001b[38;5;167;01mValueError\u001b[39;00m(\u001b[33m\"\u001b[39m\u001b[33mWrong length for predict results\u001b[39m\u001b[33m\"\u001b[39m)\n",
      "\u001b[36mFile \u001b[39m\u001b[32mc:\\Users\\Windows\\AppData\\Local\\Programs\\Python\\Python311\\Lib\\site-packages\\lightgbm\\basic.py:313\u001b[39m, in \u001b[36m_safe_call\u001b[39m\u001b[34m(ret)\u001b[39m\n\u001b[32m    305\u001b[39m \u001b[38;5;250m\u001b[39m\u001b[33;03m\"\"\"Check the return value from C API call.\u001b[39;00m\n\u001b[32m    306\u001b[39m \n\u001b[32m    307\u001b[39m \u001b[33;03mParameters\u001b[39;00m\n\u001b[32m   (...)\u001b[39m\u001b[32m    310\u001b[39m \u001b[33;03m    The return value from C API calls.\u001b[39;00m\n\u001b[32m    311\u001b[39m \u001b[33;03m\"\"\"\u001b[39;00m\n\u001b[32m    312\u001b[39m \u001b[38;5;28;01mif\u001b[39;00m ret != \u001b[32m0\u001b[39m:\n\u001b[32m--> \u001b[39m\u001b[32m313\u001b[39m     \u001b[38;5;28;01mraise\u001b[39;00m LightGBMError(_LIB.LGBM_GetLastError().decode(\u001b[33m\"\u001b[39m\u001b[33mutf-8\u001b[39m\u001b[33m\"\u001b[39m))\n",
      "\u001b[31mLightGBMError\u001b[39m: The number of features in data (116) is not the same as it was in training data (117).\nYou can set ``predict_disable_shape_check=true`` to discard this error, but please be aware what you are doing."
     ]
    }
   ],
   "source": [
    "from datetime import timedelta\n",
    "import pandas as pd\n",
    "ts_data, _ = feature_view.training_data(\n",
    "    description=\"time_series_six_hourly_bike_ride\"\n",
    ")\n",
    "# Use last known data as seed for predictions\n",
    "full_df = ts_data.copy()\n",
    "predictions = []\n",
    "\n",
    "# 6-hour intervals in 2025\n",
    "future_dates = pd.date_range(\"2025-01-01 00:00:00\", \"2025-12-31 18:00:00\", freq=\"6H\")\n",
    "location_ids = full_df[\"location_id\"].unique()\n",
    "\n",
    "print(\"🔮 Generating predictions for 2025...\")\n",
    "\n",
    "for ts in future_dates:\n",
    "    for loc in location_ids:\n",
    "        # Get the most recent lags for this station\n",
    "        hist = full_df[full_df[\"location_id\"] == loc].sort_values(\"pickup_hour\").tail(112)\n",
    "\n",
    "        if len(hist) < 112:\n",
    "            continue\n",
    "\n",
    "        # Build feature row\n",
    "        feature_row = {\n",
    "            f\"target_lag_{i+1}\": hist.iloc[-(i+1)][\"target\"] for i in range(112)\n",
    "        }\n",
    "        feature_row[\"hour\"] = ts.hour\n",
    "        feature_row[\"day_of_week\"] = ts.dayofweek\n",
    "        feature_row[\"month\"] = ts.month\n",
    "        feature_row[\"is_weekend\"] = int(ts.dayofweek in [5, 6])\n",
    "        feature_row[\"pickup_hour\"] = ts\n",
    "        feature_row[\"location_id\"] = loc\n",
    "\n",
    "        # Define the feature list exactly as used during training\n",
    "        reg_features = [f\"target_lag_{i+1}\" for i in range(112)] + [\"hour\", \"day_of_week\", \"month\", \"is_weekend\"]\n",
    "\n",
    "        # Create DataFrame and predict\n",
    "        X_pred = pd.DataFrame([feature_row])[reg_features]\n",
    "        pred = model.predict(X_pred)[0]\n",
    "\n",
    "        predictions.append({\n",
    "            \"pickup_hour\": ts,\n",
    "            \"location_id\": loc,\n",
    "            \"predicted_rides\": round(pred)\n",
    "        })\n",
    "\n",
    "        # Append prediction as if it were real to enable rolling lags\n",
    "        full_df = pd.concat([\n",
    "            full_df,\n",
    "            pd.DataFrame([{\n",
    "                **feature_row,\n",
    "                \"target\": pred\n",
    "            }])\n",
    "        ], ignore_index=True)\n",
    "\n",
    "print(\"✅ 2025 predictions complete.\")\n",
    "\n",
    "# Convert to DataFrame and save\n",
    "pred_df = pd.DataFrame(predictions)\n",
    "pred_df.to_csv(\"bike_predictions_2025_6hr.csv\", index=False)\n",
    "print(\"📁 Saved as bike_predictions_2025_6hr.csv\")\n"
   ]
  },
  {
   "cell_type": "code",
   "execution_count": null,
   "id": "03ead1bf",
   "metadata": {},
   "outputs": [
    {
     "data": {
      "application/vnd.microsoft.datawrangler.viewer.v0+json": {
       "columns": [
        {
         "name": "index",
         "rawType": "int64",
         "type": "integer"
        },
        {
         "name": "pickup_hour",
         "rawType": "datetime64[us, Etc/UTC]",
         "type": "unknown"
        },
        {
         "name": "location_id",
         "rawType": "object",
         "type": "unknown"
        },
        {
         "name": "target",
         "rawType": "int64",
         "type": "integer"
        },
        {
         "name": "target_lag_1",
         "rawType": "float64",
         "type": "float"
        },
        {
         "name": "target_lag_2",
         "rawType": "float64",
         "type": "float"
        },
        {
         "name": "target_lag_3",
         "rawType": "float64",
         "type": "float"
        },
        {
         "name": "target_lag_4",
         "rawType": "float64",
         "type": "float"
        },
        {
         "name": "target_lag_5",
         "rawType": "float64",
         "type": "float"
        },
        {
         "name": "target_lag_6",
         "rawType": "float64",
         "type": "float"
        },
        {
         "name": "target_lag_7",
         "rawType": "float64",
         "type": "float"
        },
        {
         "name": "target_lag_8",
         "rawType": "float64",
         "type": "float"
        },
        {
         "name": "target_lag_9",
         "rawType": "float64",
         "type": "float"
        },
        {
         "name": "target_lag_10",
         "rawType": "float64",
         "type": "float"
        },
        {
         "name": "target_lag_11",
         "rawType": "float64",
         "type": "float"
        },
        {
         "name": "target_lag_12",
         "rawType": "float64",
         "type": "float"
        },
        {
         "name": "target_lag_13",
         "rawType": "float64",
         "type": "float"
        },
        {
         "name": "target_lag_14",
         "rawType": "float64",
         "type": "float"
        },
        {
         "name": "target_lag_15",
         "rawType": "float64",
         "type": "float"
        },
        {
         "name": "target_lag_16",
         "rawType": "float64",
         "type": "float"
        },
        {
         "name": "target_lag_17",
         "rawType": "float64",
         "type": "float"
        },
        {
         "name": "target_lag_18",
         "rawType": "float64",
         "type": "float"
        },
        {
         "name": "target_lag_19",
         "rawType": "float64",
         "type": "float"
        },
        {
         "name": "target_lag_20",
         "rawType": "float64",
         "type": "float"
        },
        {
         "name": "target_lag_21",
         "rawType": "float64",
         "type": "float"
        },
        {
         "name": "target_lag_22",
         "rawType": "float64",
         "type": "float"
        },
        {
         "name": "target_lag_23",
         "rawType": "float64",
         "type": "float"
        },
        {
         "name": "target_lag_24",
         "rawType": "float64",
         "type": "float"
        },
        {
         "name": "target_lag_25",
         "rawType": "float64",
         "type": "float"
        },
        {
         "name": "target_lag_26",
         "rawType": "float64",
         "type": "float"
        },
        {
         "name": "target_lag_27",
         "rawType": "float64",
         "type": "float"
        },
        {
         "name": "target_lag_28",
         "rawType": "float64",
         "type": "float"
        },
        {
         "name": "target_lag_29",
         "rawType": "float64",
         "type": "float"
        },
        {
         "name": "target_lag_30",
         "rawType": "float64",
         "type": "float"
        },
        {
         "name": "target_lag_31",
         "rawType": "float64",
         "type": "float"
        },
        {
         "name": "target_lag_32",
         "rawType": "float64",
         "type": "float"
        },
        {
         "name": "target_lag_33",
         "rawType": "float64",
         "type": "float"
        },
        {
         "name": "target_lag_34",
         "rawType": "float64",
         "type": "float"
        },
        {
         "name": "target_lag_35",
         "rawType": "float64",
         "type": "float"
        },
        {
         "name": "target_lag_36",
         "rawType": "float64",
         "type": "float"
        },
        {
         "name": "target_lag_37",
         "rawType": "float64",
         "type": "float"
        },
        {
         "name": "target_lag_38",
         "rawType": "float64",
         "type": "float"
        },
        {
         "name": "target_lag_39",
         "rawType": "float64",
         "type": "float"
        },
        {
         "name": "target_lag_40",
         "rawType": "float64",
         "type": "float"
        },
        {
         "name": "target_lag_41",
         "rawType": "float64",
         "type": "float"
        },
        {
         "name": "target_lag_42",
         "rawType": "float64",
         "type": "float"
        },
        {
         "name": "target_lag_43",
         "rawType": "float64",
         "type": "float"
        },
        {
         "name": "target_lag_44",
         "rawType": "float64",
         "type": "float"
        },
        {
         "name": "target_lag_45",
         "rawType": "float64",
         "type": "float"
        },
        {
         "name": "target_lag_46",
         "rawType": "float64",
         "type": "float"
        },
        {
         "name": "target_lag_47",
         "rawType": "float64",
         "type": "float"
        },
        {
         "name": "target_lag_48",
         "rawType": "float64",
         "type": "float"
        },
        {
         "name": "target_lag_49",
         "rawType": "float64",
         "type": "float"
        },
        {
         "name": "target_lag_50",
         "rawType": "float64",
         "type": "float"
        },
        {
         "name": "target_lag_51",
         "rawType": "float64",
         "type": "float"
        },
        {
         "name": "target_lag_52",
         "rawType": "float64",
         "type": "float"
        },
        {
         "name": "target_lag_53",
         "rawType": "float64",
         "type": "float"
        },
        {
         "name": "target_lag_54",
         "rawType": "float64",
         "type": "float"
        },
        {
         "name": "target_lag_55",
         "rawType": "float64",
         "type": "float"
        },
        {
         "name": "target_lag_56",
         "rawType": "float64",
         "type": "float"
        },
        {
         "name": "target_lag_57",
         "rawType": "float64",
         "type": "float"
        },
        {
         "name": "target_lag_58",
         "rawType": "float64",
         "type": "float"
        },
        {
         "name": "target_lag_59",
         "rawType": "float64",
         "type": "float"
        },
        {
         "name": "target_lag_60",
         "rawType": "float64",
         "type": "float"
        },
        {
         "name": "target_lag_61",
         "rawType": "float64",
         "type": "float"
        },
        {
         "name": "target_lag_62",
         "rawType": "float64",
         "type": "float"
        },
        {
         "name": "target_lag_63",
         "rawType": "float64",
         "type": "float"
        },
        {
         "name": "target_lag_64",
         "rawType": "float64",
         "type": "float"
        },
        {
         "name": "target_lag_65",
         "rawType": "float64",
         "type": "float"
        },
        {
         "name": "target_lag_66",
         "rawType": "float64",
         "type": "float"
        },
        {
         "name": "target_lag_67",
         "rawType": "float64",
         "type": "float"
        },
        {
         "name": "target_lag_68",
         "rawType": "float64",
         "type": "float"
        },
        {
         "name": "target_lag_69",
         "rawType": "float64",
         "type": "float"
        },
        {
         "name": "target_lag_70",
         "rawType": "float64",
         "type": "float"
        },
        {
         "name": "target_lag_71",
         "rawType": "float64",
         "type": "float"
        },
        {
         "name": "target_lag_72",
         "rawType": "float64",
         "type": "float"
        },
        {
         "name": "target_lag_73",
         "rawType": "float64",
         "type": "float"
        },
        {
         "name": "target_lag_74",
         "rawType": "float64",
         "type": "float"
        },
        {
         "name": "target_lag_75",
         "rawType": "float64",
         "type": "float"
        },
        {
         "name": "target_lag_76",
         "rawType": "float64",
         "type": "float"
        },
        {
         "name": "target_lag_77",
         "rawType": "float64",
         "type": "float"
        },
        {
         "name": "target_lag_78",
         "rawType": "float64",
         "type": "float"
        },
        {
         "name": "target_lag_79",
         "rawType": "float64",
         "type": "float"
        },
        {
         "name": "target_lag_80",
         "rawType": "float64",
         "type": "float"
        },
        {
         "name": "target_lag_81",
         "rawType": "float64",
         "type": "float"
        },
        {
         "name": "target_lag_82",
         "rawType": "float64",
         "type": "float"
        },
        {
         "name": "target_lag_83",
         "rawType": "float64",
         "type": "float"
        },
        {
         "name": "target_lag_84",
         "rawType": "float64",
         "type": "float"
        },
        {
         "name": "target_lag_85",
         "rawType": "float64",
         "type": "float"
        },
        {
         "name": "target_lag_86",
         "rawType": "float64",
         "type": "float"
        },
        {
         "name": "target_lag_87",
         "rawType": "float64",
         "type": "float"
        },
        {
         "name": "target_lag_88",
         "rawType": "float64",
         "type": "float"
        },
        {
         "name": "target_lag_89",
         "rawType": "float64",
         "type": "float"
        },
        {
         "name": "target_lag_90",
         "rawType": "float64",
         "type": "float"
        },
        {
         "name": "target_lag_91",
         "rawType": "float64",
         "type": "float"
        },
        {
         "name": "target_lag_92",
         "rawType": "float64",
         "type": "float"
        },
        {
         "name": "target_lag_93",
         "rawType": "float64",
         "type": "float"
        },
        {
         "name": "target_lag_94",
         "rawType": "float64",
         "type": "float"
        },
        {
         "name": "target_lag_95",
         "rawType": "float64",
         "type": "float"
        },
        {
         "name": "target_lag_96",
         "rawType": "float64",
         "type": "float"
        },
        {
         "name": "target_lag_97",
         "rawType": "float64",
         "type": "float"
        },
        {
         "name": "target_lag_98",
         "rawType": "float64",
         "type": "float"
        },
        {
         "name": "target_lag_99",
         "rawType": "float64",
         "type": "float"
        },
        {
         "name": "target_lag_100",
         "rawType": "float64",
         "type": "float"
        },
        {
         "name": "target_lag_101",
         "rawType": "float64",
         "type": "float"
        },
        {
         "name": "target_lag_102",
         "rawType": "float64",
         "type": "float"
        },
        {
         "name": "target_lag_103",
         "rawType": "float64",
         "type": "float"
        },
        {
         "name": "target_lag_104",
         "rawType": "float64",
         "type": "float"
        },
        {
         "name": "target_lag_105",
         "rawType": "float64",
         "type": "float"
        },
        {
         "name": "target_lag_106",
         "rawType": "float64",
         "type": "float"
        },
        {
         "name": "target_lag_107",
         "rawType": "float64",
         "type": "float"
        },
        {
         "name": "target_lag_108",
         "rawType": "float64",
         "type": "float"
        },
        {
         "name": "target_lag_109",
         "rawType": "float64",
         "type": "float"
        },
        {
         "name": "target_lag_110",
         "rawType": "float64",
         "type": "float"
        },
        {
         "name": "target_lag_111",
         "rawType": "float64",
         "type": "float"
        },
        {
         "name": "target_lag_112",
         "rawType": "float64",
         "type": "float"
        },
        {
         "name": "hour",
         "rawType": "int32",
         "type": "integer"
        },
        {
         "name": "day_of_week",
         "rawType": "int32",
         "type": "integer"
        },
        {
         "name": "month",
         "rawType": "int32",
         "type": "integer"
        },
        {
         "name": "is_weekend",
         "rawType": "int32",
         "type": "integer"
        }
       ],
       "conversionMethod": "pd.DataFrame",
       "ref": "cf835b77-5bc3-4d7b-999c-1155aad4ea7b",
       "rows": [],
       "shape": {
        "columns": 119,
        "rows": 0
       }
      },
      "text/html": [
       "<div>\n",
       "<style scoped>\n",
       "    .dataframe tbody tr th:only-of-type {\n",
       "        vertical-align: middle;\n",
       "    }\n",
       "\n",
       "    .dataframe tbody tr th {\n",
       "        vertical-align: top;\n",
       "    }\n",
       "\n",
       "    .dataframe thead th {\n",
       "        text-align: right;\n",
       "    }\n",
       "</style>\n",
       "<table border=\"1\" class=\"dataframe\">\n",
       "  <thead>\n",
       "    <tr style=\"text-align: right;\">\n",
       "      <th></th>\n",
       "      <th>pickup_hour</th>\n",
       "      <th>location_id</th>\n",
       "      <th>target</th>\n",
       "      <th>target_lag_1</th>\n",
       "      <th>target_lag_2</th>\n",
       "      <th>target_lag_3</th>\n",
       "      <th>target_lag_4</th>\n",
       "      <th>target_lag_5</th>\n",
       "      <th>target_lag_6</th>\n",
       "      <th>target_lag_7</th>\n",
       "      <th>...</th>\n",
       "      <th>target_lag_107</th>\n",
       "      <th>target_lag_108</th>\n",
       "      <th>target_lag_109</th>\n",
       "      <th>target_lag_110</th>\n",
       "      <th>target_lag_111</th>\n",
       "      <th>target_lag_112</th>\n",
       "      <th>hour</th>\n",
       "      <th>day_of_week</th>\n",
       "      <th>month</th>\n",
       "      <th>is_weekend</th>\n",
       "    </tr>\n",
       "  </thead>\n",
       "  <tbody>\n",
       "  </tbody>\n",
       "</table>\n",
       "<p>0 rows × 119 columns</p>\n",
       "</div>"
      ],
      "text/plain": [
       "Empty DataFrame\n",
       "Columns: [pickup_hour, location_id, target, target_lag_1, target_lag_2, target_lag_3, target_lag_4, target_lag_5, target_lag_6, target_lag_7, target_lag_8, target_lag_9, target_lag_10, target_lag_11, target_lag_12, target_lag_13, target_lag_14, target_lag_15, target_lag_16, target_lag_17, target_lag_18, target_lag_19, target_lag_20, target_lag_21, target_lag_22, target_lag_23, target_lag_24, target_lag_25, target_lag_26, target_lag_27, target_lag_28, target_lag_29, target_lag_30, target_lag_31, target_lag_32, target_lag_33, target_lag_34, target_lag_35, target_lag_36, target_lag_37, target_lag_38, target_lag_39, target_lag_40, target_lag_41, target_lag_42, target_lag_43, target_lag_44, target_lag_45, target_lag_46, target_lag_47, target_lag_48, target_lag_49, target_lag_50, target_lag_51, target_lag_52, target_lag_53, target_lag_54, target_lag_55, target_lag_56, target_lag_57, target_lag_58, target_lag_59, target_lag_60, target_lag_61, target_lag_62, target_lag_63, target_lag_64, target_lag_65, target_lag_66, target_lag_67, target_lag_68, target_lag_69, target_lag_70, target_lag_71, target_lag_72, target_lag_73, target_lag_74, target_lag_75, target_lag_76, target_lag_77, target_lag_78, target_lag_79, target_lag_80, target_lag_81, target_lag_82, target_lag_83, target_lag_84, target_lag_85, target_lag_86, target_lag_87, target_lag_88, target_lag_89, target_lag_90, target_lag_91, target_lag_92, target_lag_93, target_lag_94, target_lag_95, target_lag_96, target_lag_97, ...]\n",
       "Index: []\n",
       "\n",
       "[0 rows x 119 columns]"
      ]
     },
     "execution_count": 10,
     "metadata": {},
     "output_type": "execute_result"
    }
   ],
   "source": [
    "ts_data.sort_values([\"location_id\", \"pickup_hour\"]).reset_index(drop=True)"
   ]
  }
 ],
 "metadata": {
  "kernelspec": {
   "display_name": "Python 3",
   "language": "python",
   "name": "python3"
  },
  "language_info": {
   "codemirror_mode": {
    "name": "ipython",
    "version": 3
   },
   "file_extension": ".py",
   "mimetype": "text/x-python",
   "name": "python",
   "nbconvert_exporter": "python",
   "pygments_lexer": "ipython3",
   "version": "3.11.0"
  }
 },
 "nbformat": 4,
 "nbformat_minor": 5
}
